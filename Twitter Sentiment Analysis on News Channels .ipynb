{
 "cells": [
  {
   "cell_type": "markdown",
   "metadata": {},
   "source": [
    "## Anlysis on News Channels \n",
    "\n",
    "### Summary \n",
    "#### 1) CNN had the most negative score (-0.7), in fact it was the only news channel with a negative score. \n",
    "#### 2) CBS and FOX News had the most positive scores, each of them had a 0.36 score. \n",
    "#### 3) BBC and The New York Times had positive scores but the scores are significant lower than CBS and FOX news.\n",
    "#### 4) The Vader Analysis is a great tool but it can also be very misleading because the  sentiment of the twits are significantly impacted by the events of a specific day. \n",
    "\n",
    "\n"
   ]
  },
  {
   "cell_type": "code",
   "execution_count": 1,
   "metadata": {},
   "outputs": [],
   "source": [
    "# Import Dependencies\n",
    "\n",
    "import tweepy\n",
    "import json\n",
    "import pandas as pd\n",
    "import numpy as np\n",
    "import time\n",
    "from datetime import datetime\n",
    "import matplotlib.pyplot as plt\n",
    "import seaborn as sns"
   ]
  },
  {
   "cell_type": "code",
   "execution_count": 2,
   "metadata": {},
   "outputs": [],
   "source": [
    "# Import Sentiment Analyzer.\n",
    "from vaderSentiment.vaderSentiment import SentimentIntensityAnalyzer\n",
    "analyzer = SentimentIntensityAnalyzer()"
   ]
  },
  {
   "cell_type": "code",
   "execution_count": 3,
   "metadata": {},
   "outputs": [],
   "source": [
    "# setting up twitter API keys \n",
    "Access_Token=\"4856252217-hz9KfzJd4Ik0czJeylDb4fgmVijEdCUDunTU2OC\"\n",
    "Access_Token_Secret=\"AcAFL70liUSaEr15VvkbsC2EWRhnzPHXn3pWwAHADNKwF\"\n",
    "Consumer_Key=\"x6Gbi2eOHDUvNeJvO7TDnARlT\"\n",
    "Consumer_Secret=\"SLMaUcVd5DGcoe3WpSZcdQAuCSjXhDJflPakaU24xRJ8qoLwTZ\"\n",
    "\n"
   ]
  },
  {
   "cell_type": "code",
   "execution_count": 4,
   "metadata": {},
   "outputs": [],
   "source": [
    "# Setup Tweepy API Authentication.\n",
    "\n",
    "auth = tweepy.OAuthHandler(Consumer_Key, Consumer_Secret)\n",
    "auth.set_access_token(Access_Token, Access_Token_Secret)\n",
    "api = tweepy.API(auth, parser=tweepy.parsers.JSONParser())"
   ]
  },
  {
   "cell_type": "code",
   "execution_count": 5,
   "metadata": {},
   "outputs": [],
   "source": [
    "#Get tweets from each news organization's twitter feeds\n",
    "\n",
    "\n",
    "# list to hold sentiments\n",
    "\n",
    "sentiments = []\n",
    "\n",
    "target_users = (\"@BBC\", \"@CBS\", \"@CNN\", \"@FoxNews\", \"@NYTimes\")\n",
    "\n",
    "#Loop though target users.\n",
    "\n",
    "for user in target_users:\n",
    "    \n",
    "    #counter \n",
    "    \n",
    "    counter= 0 \n",
    "    \n",
    "    #Loop through 5 pages of tweets for each news organization.\n",
    "\n",
    "\n",
    "    #Get all tweets from the homefeed of each news organization.\n",
    "\n",
    "    public_tweets = api.user_timeline(user, count = 100)\n",
    "\n",
    "        #Loop through all tweets.\n",
    "\n",
    "    for tweet in public_tweets:\n",
    "\n",
    "        #Run the Vader analysis on each tweet.\n",
    "\n",
    "        compound = analyzer.polarity_scores(tweet[\"text\"])[\"compound\"]\n",
    "        pos = analyzer.polarity_scores(tweet[\"text\"])[\"pos\"]\n",
    "        neu = analyzer.polarity_scores(tweet[\"text\"])[\"neu\"]\n",
    "        neg = analyzer.polarity_scores(tweet[\"text\"])[\"neg\"]\n",
    "        tweets_ago = counter\n",
    "        tweet_text = tweet[\"text\"]\n",
    "\n",
    "        #Add sentiments for each tweet to the sentiments list.\n",
    "\n",
    "        sentiments.append({\"User\" : user,\n",
    "                           \"Date\": tweet[\"created_at\"],\n",
    "                           \"Compound\" : compound,\n",
    "                           \"Positive\" : pos,\n",
    "                           \"Negative\" : neg,\n",
    "                           \"Neutral\" : neu,\n",
    "                           \"Tweets Ago\" : counter,\n",
    "                           \"Tweet Text\" : tweet_text})\n",
    "        #Add to counter.\n",
    "\n",
    "        counter = counter + 1"
   ]
  },
  {
   "cell_type": "code",
   "execution_count": 6,
   "metadata": {},
   "outputs": [
    {
     "data": {
      "text/html": [
       "<div>\n",
       "<style scoped>\n",
       "    .dataframe tbody tr th:only-of-type {\n",
       "        vertical-align: middle;\n",
       "    }\n",
       "\n",
       "    .dataframe tbody tr th {\n",
       "        vertical-align: top;\n",
       "    }\n",
       "\n",
       "    .dataframe thead th {\n",
       "        text-align: right;\n",
       "    }\n",
       "</style>\n",
       "<table border=\"1\" class=\"dataframe\">\n",
       "  <thead>\n",
       "    <tr style=\"text-align: right;\">\n",
       "      <th></th>\n",
       "      <th>Compound</th>\n",
       "      <th>Date</th>\n",
       "      <th>Negative</th>\n",
       "      <th>Neutral</th>\n",
       "      <th>Positive</th>\n",
       "      <th>Tweet Text</th>\n",
       "      <th>Tweets Ago</th>\n",
       "      <th>User</th>\n",
       "    </tr>\n",
       "  </thead>\n",
       "  <tbody>\n",
       "    <tr>\n",
       "      <th>495</th>\n",
       "      <td>-0.2500</td>\n",
       "      <td>Wed Jul 04 00:32:02 +0000 2018</td>\n",
       "      <td>0.095</td>\n",
       "      <td>0.905</td>\n",
       "      <td>0.000</td>\n",
       "      <td>A soccer player scored a goal. A baseball play...</td>\n",
       "      <td>95</td>\n",
       "      <td>@NYTimes</td>\n",
       "    </tr>\n",
       "    <tr>\n",
       "      <th>496</th>\n",
       "      <td>0.4939</td>\n",
       "      <td>Wed Jul 04 00:17:04 +0000 2018</td>\n",
       "      <td>0.000</td>\n",
       "      <td>0.714</td>\n",
       "      <td>0.286</td>\n",
       "      <td>RT @paulkrugman: Some thoughts inspired by Ale...</td>\n",
       "      <td>96</td>\n",
       "      <td>@NYTimes</td>\n",
       "    </tr>\n",
       "    <tr>\n",
       "      <th>497</th>\n",
       "      <td>0.4215</td>\n",
       "      <td>Wed Jul 04 00:02:06 +0000 2018</td>\n",
       "      <td>0.000</td>\n",
       "      <td>0.859</td>\n",
       "      <td>0.141</td>\n",
       "      <td>The federal prosecutor who supervised the inve...</td>\n",
       "      <td>97</td>\n",
       "      <td>@NYTimes</td>\n",
       "    </tr>\n",
       "    <tr>\n",
       "      <th>498</th>\n",
       "      <td>0.0000</td>\n",
       "      <td>Tue Jul 03 23:47:04 +0000 2018</td>\n",
       "      <td>0.000</td>\n",
       "      <td>1.000</td>\n",
       "      <td>0.000</td>\n",
       "      <td>Hours before a crucial match with Argentina, t...</td>\n",
       "      <td>98</td>\n",
       "      <td>@NYTimes</td>\n",
       "    </tr>\n",
       "    <tr>\n",
       "      <th>499</th>\n",
       "      <td>0.4588</td>\n",
       "      <td>Tue Jul 03 23:32:04 +0000 2018</td>\n",
       "      <td>0.108</td>\n",
       "      <td>0.637</td>\n",
       "      <td>0.255</td>\n",
       "      <td>Cambridge, England has become a hotbed for art...</td>\n",
       "      <td>99</td>\n",
       "      <td>@NYTimes</td>\n",
       "    </tr>\n",
       "  </tbody>\n",
       "</table>\n",
       "</div>"
      ],
      "text/plain": [
       "     Compound                            Date  Negative  Neutral  Positive  \\\n",
       "495   -0.2500  Wed Jul 04 00:32:02 +0000 2018     0.095    0.905     0.000   \n",
       "496    0.4939  Wed Jul 04 00:17:04 +0000 2018     0.000    0.714     0.286   \n",
       "497    0.4215  Wed Jul 04 00:02:06 +0000 2018     0.000    0.859     0.141   \n",
       "498    0.0000  Tue Jul 03 23:47:04 +0000 2018     0.000    1.000     0.000   \n",
       "499    0.4588  Tue Jul 03 23:32:04 +0000 2018     0.108    0.637     0.255   \n",
       "\n",
       "                                            Tweet Text  Tweets Ago      User  \n",
       "495  A soccer player scored a goal. A baseball play...          95  @NYTimes  \n",
       "496  RT @paulkrugman: Some thoughts inspired by Ale...          96  @NYTimes  \n",
       "497  The federal prosecutor who supervised the inve...          97  @NYTimes  \n",
       "498  Hours before a crucial match with Argentina, t...          98  @NYTimes  \n",
       "499  Cambridge, England has become a hotbed for art...          99  @NYTimes  "
      ]
     },
     "execution_count": 6,
     "metadata": {},
     "output_type": "execute_result"
    }
   ],
   "source": [
    "#Create DataFrame.\n",
    "\n",
    "news_sentiments = pd.DataFrame.from_dict(sentiments)\n",
    "news_sentiments.tail()"
   ]
  },
  {
   "cell_type": "code",
   "execution_count": 7,
   "metadata": {},
   "outputs": [],
   "source": [
    "#Export the DataFrame to as csv.\n",
    "\n",
    "news_sentiments.to_csv(\"Twitter_Sentiment_Analysis.csv\", index=False)"
   ]
  },
  {
   "cell_type": "code",
   "execution_count": 8,
   "metadata": {},
   "outputs": [
    {
     "data": {
      "image/png": "[encoded data removed]",
      "text/plain": [
       "<matplotlib.figure.Figure at 0x1a0bfc3da0>"
      ]
     },
     "metadata": {},
     "output_type": "display_data"
    }
   ],
   "source": [
    "#Plot scatterplot graph.\n",
    "\n",
    "# Set the x limit,\n",
    "plt.xlim(101, -1)\n",
    "\n",
    "#plot scatterplot using a for loop.\n",
    "for user in target_users:\n",
    "    dataframe = news_sentiments.loc[news_sentiments[\"User\"] == user]\n",
    "    plt.scatter(dataframe[\"Tweets Ago\"],dataframe[\"Compound\"],label = user)\n",
    "    \n",
    "#Add legend\n",
    "plt.legend(bbox_to_anchor = (1,1))\n",
    "\n",
    "#Add title, x axis label, and y axis label.\n",
    "plt.title(\"Sentiment Analysis of Media Tweets (7/4/2018)\")\n",
    "plt.xlabel(\"Tweets Ago\")\n",
    "plt.ylabel(\"Tweet Polarity\")\n",
    "\n",
    "#Set a grid on the plot.\n",
    "plt.grid()\n",
    "\n",
    "#Saving the plot imagine \n",
    "plt.savefig(\"Sentiment Analysis of Media Tweets\")\n",
    "plt.show()\n"
   ]
  },
  {
   "cell_type": "code",
   "execution_count": 9,
   "metadata": {},
   "outputs": [
    {
     "data": {
      "text/plain": [
       "User\n",
       "@BBC        0.104107\n",
       "@CBS        0.359104\n",
       "@CNN       -0.069179\n",
       "@FoxNews    0.349688\n",
       "@NYTimes    0.060077\n",
       "Name: Compound, dtype: float64"
      ]
     },
     "execution_count": 9,
     "metadata": {},
     "output_type": "execute_result"
    }
   ],
   "source": [
    "average_sentiment = news_sentiments.groupby(\"User\")[\"Compound\"].mean()\n",
    "average_sentiment"
   ]
  },
  {
   "cell_type": "code",
   "execution_count": 10,
   "metadata": {},
   "outputs": [
    {
     "data": {
      "image/png": "[encoded data removed]",
      "text/plain": [
       "<matplotlib.figure.Figure at 0x1a0b1eab70>"
      ]
     },
     "metadata": {},
     "output_type": "display_data"
    }
   ],
   "source": [
    "x_axis = np.arange(len(average_sentiment))\n",
    "xlabels = average_sentiment.index\n",
    "count = 0\n",
    "for sentiment in average_sentiment:\n",
    "    plt.text(count, sentiment+.01, str(round(sentiment,2)))\n",
    "    count = count + 1\n",
    "plt.bar(x_axis, average_sentiment, tick_label = xlabels, color = ['silver', 'b', 'y', 'g', 'c'])\n",
    "\n",
    "#Set title, x axis label, and y axis label\n",
    "plt.title(\"Overall Sentiment of Media Tweets (2/4/2018)\")\n",
    "plt.xlabel(\"News Organizations\")\n",
    "plt.ylabel(\"Tweet Polarity\")\n",
    "\n",
    "#Saving the plot imagine \n",
    "plt.savefig(\"Overall Sentiment of Media Tweets\")\n",
    "plt.show()"
   ]
  }
 ],
 "metadata": {
  "kernelspec": {
   "display_name": "Python 3",
   "language": "python",
   "name": "python3"
  },
  "language_info": {
   "codemirror_mode": {
    "name": "ipython",
    "version": 3
   },
   "file_extension": ".py",
   "mimetype": "text/x-python",
   "name": "python",
   "nbconvert_exporter": "python",
   "pygments_lexer": "ipython3",
   "version": "3.6.4"
  }
 },
 "nbformat": 4,
 "nbformat_minor": 2
}
